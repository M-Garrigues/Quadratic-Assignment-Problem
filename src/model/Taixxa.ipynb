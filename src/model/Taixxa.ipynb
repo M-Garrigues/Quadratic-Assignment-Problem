{
 "cells": [
  {
   "cell_type": "code",
   "execution_count": 169,
   "metadata": {},
   "outputs": [],
   "source": [
    "import numpy as np\n",
    "import random as rd"
   ]
  },
  {
   "cell_type": "code",
   "execution_count": 190,
   "metadata": {},
   "outputs": [],
   "source": [
    "class TaixxaDataSet:\n",
    "    \n",
    "    def _init_(self):\n",
    "        weights = []\n",
    "        distances = []\n",
    "        permutation = []\n",
    "        cost = 0\n",
    "        modulesNumber = 0\n",
    "        \n",
    "    def loadFile(self,filename):\n",
    "        \n",
    "        with open(filename, \"r\") as f:\n",
    "            lines = f.readlines()\n",
    "            self.modulesNumber = int(lines[0])\n",
    "            temp = list(map(lambda x: list(filter(lambda a: a != '', x)), list(map(lambda x: x[:-1].split(\" \"), lines[2:self.modulesNumber+2]))))\n",
    "            temp = list(map(lambda x: list(map(lambda a: int(a), x)), temp))\n",
    "            self.weights = np.array(temp)\n",
    "            temp = list(map(lambda x: list(filter(lambda a: a != '', x)), list(map(lambda x: x[:-1].split(\" \"), lines[self.modulesNumber+3:len(lines)]))))\n",
    "            temp = list(map(lambda x: list(map(lambda a: int(a), x)), temp))\n",
    "            self.distances = np.array(temp)\n",
    "        \n",
    "        self.permutation = list(range(self.modulesNumber))\n",
    "        print(self.permutation)\n",
    "        \n",
    "    def computeCost(self,perm = None):\n",
    "        newCost = 0\n",
    "        if perm == None:\n",
    "            perm = self.permutation\n",
    "        for i in range(self.modulesNumber):\n",
    "            for j in range(self.modulesNumber):\n",
    "                newCost += self.weights[i,j]*self.distances[perm[i],perm[j]]\n",
    "        return(newCost)\n",
    "    \n",
    "    \n",
    "    def getNeighbours(self):\n",
    "        neighbours = []\n",
    "        for i in range(self.modulesNumber):\n",
    "            for j in range(i,self.modulesNumber):\n",
    "                if i != j :\n",
    "                    temp = self.permutation[:]\n",
    "                    temp[i] = self.permutation[j]\n",
    "                    temp[j] = self.permutation[i]\n",
    "                    #print(temp)\n",
    "                    neighbours.append(temp)\n",
    "        return(neighbours)\n",
    "    \n",
    "    def simulatedAnnealing(self,t0):\n",
    "        xmin = self.permutation\n",
    "        xnext = 0\n",
    "        temp = t0\n",
    "        fmin = self.computeCost()\n",
    "        for k in range(10):\n",
    "            neighbours = self.getNeighbours()\n",
    "            #print(neighbours)\n",
    "            for l in range(1,10):\n",
    "                y = rd.choice(neighbours)\n",
    "                variationF = self.computeCost(y) - self.computeCost()\n",
    "                if variationF <= 0:\n",
    "                    xnext = y\n",
    "                    fnext = self.computeCost(xnext) \n",
    "                    if fnext < fmin:\n",
    "                        xmin = xnext\n",
    "                        fmin = fnext\n",
    "                else:\n",
    "                    p = rd.uniform(0,1)\n",
    "                    if p <= np.exp(-variationF/temp):\n",
    "                        xnext = y\n",
    "                    else:\n",
    "                        xnext = self.permutation\n",
    "                self.permutation = xnext\n",
    "            temp = temp*0.8\n",
    "        return xmin\n",
    "                        \n",
    "                    \n",
    "                \n",
    "                \n",
    "    \n",
    "    "
   ]
  },
  {
   "cell_type": "code",
   "execution_count": 203,
   "metadata": {},
   "outputs": [
    {
     "name": "stdout",
     "output_type": "stream",
     "text": [
      "[0, 1, 2, 3, 4, 5, 6, 7, 8, 9, 10, 11]\n"
     ]
    },
    {
     "data": {
      "text/plain": [
       "[3, 11, 10, 0, 6, 5, 8, 1, 2, 9, 4, 7]"
      ]
     },
     "execution_count": 203,
     "metadata": {},
     "output_type": "execute_result"
    }
   ],
   "source": [
    "data = TaixxaDataSet()\n",
    "data.loadFile(\"tai12a.dat\")\n",
    "data.simulatedAnnealing(30)\n"
   ]
  },
  {
   "cell_type": "code",
   "execution_count": 62,
   "metadata": {
    "scrolled": true
   },
   "outputs": [],
   "source": []
  }
 ],
 "metadata": {
  "kernelspec": {
   "display_name": "Python 3",
   "language": "python",
   "name": "python3"
  },
  "language_info": {
   "codemirror_mode": {
    "name": "ipython",
    "version": 3
   },
   "file_extension": ".py",
   "mimetype": "text/x-python",
   "name": "python",
   "nbconvert_exporter": "python",
   "pygments_lexer": "ipython3",
   "version": "3.6.6"
  }
 },
 "nbformat": 4,
 "nbformat_minor": 2
}
