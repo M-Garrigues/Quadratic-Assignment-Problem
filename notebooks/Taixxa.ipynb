{
 "cells": [
  {
   "cell_type": "code",
   "execution_count": 1,
   "metadata": {},
   "outputs": [
    {
     "data": {
      "text/plain": [
       "<Figure size 640x480 with 1 Axes>"
      ]
     },
     "metadata": {},
     "output_type": "display_data"
    },
    {
     "data": {
      "text/plain": [
       "<Figure size 640x480 with 0 Axes>"
      ]
     },
     "metadata": {},
     "output_type": "display_data"
    },
    {
     "data": {
      "text/plain": [
       "<Figure size 640x480 with 1 Axes>"
      ]
     },
     "metadata": {},
     "output_type": "display_data"
    }
   ],
   "source": [
    "import numpy as np\n",
    "import random as rd\n",
    "import pandas as pd\n",
    "import sys\n",
    "sys.path.insert(0, '../src/model/')\n",
    "sys.path.insert(1, '../src/view/')\n",
    "from Taixxa import Taixxa\n",
    "from FitnessViewer import FitnessViewer\n",
    "from FitnessComparator import FitnessComparator"
   ]
  },
  {
   "cell_type": "code",
   "execution_count": 2,
   "metadata": {},
   "outputs": [
    {
     "name": "stdout",
     "output_type": "stream",
     "text": [
      "27\n",
      "[[ 0 21 95 82 56 41  6 25 10  4 63  6]\n",
      " [21  0 44 40 75 79  0 89 35  9  1 85]\n",
      " [95 44  0 84 12  0 26 91 11 35 82 26]\n",
      " [82 40 84  0 69 56 86 45 91 59 18 76]\n",
      " [56 75 12 69  0 39 18 57 36 61 36 21]\n",
      " [41 79  0 56 39  0 71 11 29 82 82  6]\n",
      " [ 6  0 26 86 18 71  0 71  8 77 74 30]\n",
      " [25 89 91 45 57 11 71  0 89 76 76 40]\n",
      " [10 35 11 91 36 29  8 89  0 93 56  1]\n",
      " [ 4  9 35 59 61 82 77 76 93  0 50  4]\n",
      " [63  1 82 18 36 82 74 76 56 50  0 36]\n",
      " [ 6 85 26 76 21  6 30 40  1  4 36  0]]\n",
      "[[ 0 27 85  2  1 15 11 35 11 20 21 61]\n",
      " [27  0 80 58 21 76 72 44 85 94 90 51]\n",
      " [85 80  0  3 48 29 90 66 41 15 83 96]\n",
      " [ 2 58  3  0 74 45 65 40 54 83 14 71]\n",
      " [ 1 21 48 74  0 77 36 53 37 26 87 76]\n",
      " [15 76 29 45 77  0 91 13 29 11 77 32]\n",
      " [11 72 90 65 36 91  0 87 67 94 79  2]\n",
      " [35 44 66 40 53 13 87  0 10 99 56 70]\n",
      " [11 85 41 54 37 29 67 10  0 99 60  4]\n",
      " [20 94 15 83 26 11 94 99 99  0 56  2]\n",
      " [21 90 83 14 87 77 79 56 60 56  0 60]]\n",
      "[0, 1, 2, 3, 4, 5, 6, 7, 8, 9, 10, 11]\n",
      "27\n",
      "[[ 0 21 95 82 56 41  6 25 10  4 63  6]\n",
      " [21  0 44 40 75 79  0 89 35  9  1 85]\n",
      " [95 44  0 84 12  0 26 91 11 35 82 26]\n",
      " [82 40 84  0 69 56 86 45 91 59 18 76]\n",
      " [56 75 12 69  0 39 18 57 36 61 36 21]\n",
      " [41 79  0 56 39  0 71 11 29 82 82  6]\n",
      " [ 6  0 26 86 18 71  0 71  8 77 74 30]\n",
      " [25 89 91 45 57 11 71  0 89 76 76 40]\n",
      " [10 35 11 91 36 29  8 89  0 93 56  1]\n",
      " [ 4  9 35 59 61 82 77 76 93  0 50  4]\n",
      " [63  1 82 18 36 82 74 76 56 50  0 36]\n",
      " [ 6 85 26 76 21  6 30 40  1  4 36  0]]\n",
      "[[ 0 27 85  2  1 15 11 35 11 20 21 61]\n",
      " [27  0 80 58 21 76 72 44 85 94 90 51]\n",
      " [85 80  0  3 48 29 90 66 41 15 83 96]\n",
      " [ 2 58  3  0 74 45 65 40 54 83 14 71]\n",
      " [ 1 21 48 74  0 77 36 53 37 26 87 76]\n",
      " [15 76 29 45 77  0 91 13 29 11 77 32]\n",
      " [11 72 90 65 36 91  0 87 67 94 79  2]\n",
      " [35 44 66 40 53 13 87  0 10 99 56 70]\n",
      " [11 85 41 54 37 29 67 10  0 99 60  4]\n",
      " [20 94 15 83 26 11 94 99 99  0 56  2]\n",
      " [21 90 83 14 87 77 79 56 60 56  0 60]]\n",
      "[0, 1, 2, 3, 4, 5, 6, 7, 8, 9, 10, 11]\n",
      "simulated annealing ....\n"
     ]
    },
    {
     "ename": "IndexError",
     "evalue": "index 11 is out of bounds for axis 0 with size 11",
     "output_type": "error",
     "traceback": [
      "\u001b[1;31m---------------------------------------------------------------------------\u001b[0m",
      "\u001b[1;31mIndexError\u001b[0m                                Traceback (most recent call last)",
      "\u001b[1;32m<ipython-input-2-c5ffa00e9ffa>\u001b[0m in \u001b[0;36m<module>\u001b[1;34m\u001b[0m\n\u001b[0;32m      4\u001b[0m \u001b[0mdata2\u001b[0m\u001b[1;33m.\u001b[0m\u001b[0mloadFile\u001b[0m\u001b[1;33m(\u001b[0m\u001b[1;34m\"tai12a.dat\"\u001b[0m\u001b[1;33m)\u001b[0m\u001b[1;33m\u001b[0m\u001b[0m\n\u001b[0;32m      5\u001b[0m \u001b[0mprint\u001b[0m\u001b[1;33m(\u001b[0m\u001b[1;34m\"simulated annealing ....\"\u001b[0m\u001b[1;33m)\u001b[0m\u001b[1;33m\u001b[0m\u001b[0m\n\u001b[1;32m----> 6\u001b[1;33m \u001b[0msol\u001b[0m\u001b[1;33m,\u001b[0m \u001b[0mfit1\u001b[0m \u001b[1;33m=\u001b[0m \u001b[0mdata\u001b[0m\u001b[1;33m.\u001b[0m\u001b[0msimulatedAnnealing\u001b[0m\u001b[1;33m(\u001b[0m\u001b[1;36m30\u001b[0m\u001b[1;33m,\u001b[0m \u001b[1;36m0.9\u001b[0m\u001b[1;33m,\u001b[0m\u001b[1;36m100\u001b[0m\u001b[1;33m,\u001b[0m\u001b[1;36m11\u001b[0m\u001b[1;33m)\u001b[0m\u001b[1;33m\u001b[0m\u001b[0m\n\u001b[0m\u001b[0;32m      7\u001b[0m \u001b[0mprint\u001b[0m\u001b[1;33m(\u001b[0m\u001b[1;34m\"tabu search ....\"\u001b[0m\u001b[1;33m)\u001b[0m\u001b[1;33m\u001b[0m\u001b[0m\n\u001b[0;32m      8\u001b[0m \u001b[0msol\u001b[0m\u001b[1;33m,\u001b[0m \u001b[0mfit2\u001b[0m \u001b[1;33m=\u001b[0m \u001b[0mdata2\u001b[0m\u001b[1;33m.\u001b[0m\u001b[0mtabuSearch\u001b[0m\u001b[1;33m(\u001b[0m\u001b[1;36m1000\u001b[0m\u001b[1;33m,\u001b[0m \u001b[1;36m22\u001b[0m\u001b[1;33m)\u001b[0m\u001b[1;33m\u001b[0m\u001b[0m\n",
      "\u001b[1;32m~\\Documents\\OptiDiscreteProjet\\Quadratic-Assignment-Problem\\src\\model\\Taixxa.py\u001b[0m in \u001b[0;36msimulatedAnnealing\u001b[1;34m(self, t0, mu, n1, n2)\u001b[0m\n\u001b[0;32m     58\u001b[0m         \u001b[0mxnext\u001b[0m \u001b[1;33m=\u001b[0m \u001b[1;36m0\u001b[0m\u001b[1;33m\u001b[0m\u001b[0m\n\u001b[0;32m     59\u001b[0m         \u001b[0mtemp\u001b[0m \u001b[1;33m=\u001b[0m \u001b[0mt0\u001b[0m\u001b[1;33m\u001b[0m\u001b[0m\n\u001b[1;32m---> 60\u001b[1;33m         \u001b[0mfmin\u001b[0m \u001b[1;33m=\u001b[0m \u001b[0mself\u001b[0m\u001b[1;33m.\u001b[0m\u001b[0mcomputeCost\u001b[0m\u001b[1;33m(\u001b[0m\u001b[1;33m)\u001b[0m\u001b[1;33m\u001b[0m\u001b[0m\n\u001b[0m\u001b[0;32m     61\u001b[0m         \u001b[0mfitness\u001b[0m\u001b[1;33m.\u001b[0m\u001b[0mappend\u001b[0m\u001b[1;33m(\u001b[0m\u001b[0mfmin\u001b[0m\u001b[1;33m)\u001b[0m\u001b[1;33m\u001b[0m\u001b[0m\n\u001b[0;32m     62\u001b[0m         \u001b[1;32mfor\u001b[0m \u001b[0mk\u001b[0m \u001b[1;32min\u001b[0m \u001b[0mrange\u001b[0m\u001b[1;33m(\u001b[0m\u001b[0mn1\u001b[0m\u001b[1;33m)\u001b[0m\u001b[1;33m:\u001b[0m\u001b[1;33m\u001b[0m\u001b[0m\n",
      "\u001b[1;32m~\\Documents\\OptiDiscreteProjet\\Quadratic-Assignment-Problem\\src\\model\\Taixxa.py\u001b[0m in \u001b[0;36mcomputeCost\u001b[1;34m(self, perm)\u001b[0m\n\u001b[0;32m     37\u001b[0m         \u001b[1;32mfor\u001b[0m \u001b[0mi\u001b[0m \u001b[1;32min\u001b[0m \u001b[0mrange\u001b[0m\u001b[1;33m(\u001b[0m\u001b[0mself\u001b[0m\u001b[1;33m.\u001b[0m\u001b[0mmodulesNumber\u001b[0m\u001b[1;33m)\u001b[0m\u001b[1;33m:\u001b[0m\u001b[1;33m\u001b[0m\u001b[0m\n\u001b[0;32m     38\u001b[0m             \u001b[1;32mfor\u001b[0m \u001b[0mj\u001b[0m \u001b[1;32min\u001b[0m \u001b[0mrange\u001b[0m\u001b[1;33m(\u001b[0m\u001b[0mself\u001b[0m\u001b[1;33m.\u001b[0m\u001b[0mmodulesNumber\u001b[0m\u001b[1;33m)\u001b[0m\u001b[1;33m:\u001b[0m\u001b[1;33m\u001b[0m\u001b[0m\n\u001b[1;32m---> 39\u001b[1;33m                 \u001b[0mnewCost\u001b[0m \u001b[1;33m+=\u001b[0m \u001b[0mself\u001b[0m\u001b[1;33m.\u001b[0m\u001b[0mweights\u001b[0m\u001b[1;33m[\u001b[0m\u001b[0mi\u001b[0m\u001b[1;33m,\u001b[0m \u001b[0mj\u001b[0m\u001b[1;33m]\u001b[0m \u001b[1;33m*\u001b[0m \u001b[0mself\u001b[0m\u001b[1;33m.\u001b[0m\u001b[0mdistances\u001b[0m\u001b[1;33m[\u001b[0m\u001b[0mperm\u001b[0m\u001b[1;33m[\u001b[0m\u001b[0mi\u001b[0m\u001b[1;33m]\u001b[0m\u001b[1;33m,\u001b[0m \u001b[0mperm\u001b[0m\u001b[1;33m[\u001b[0m\u001b[0mj\u001b[0m\u001b[1;33m]\u001b[0m\u001b[1;33m]\u001b[0m\u001b[1;33m\u001b[0m\u001b[0m\n\u001b[0m\u001b[0;32m     40\u001b[0m         \u001b[1;32mreturn\u001b[0m \u001b[0mnewCost\u001b[0m\u001b[1;33m\u001b[0m\u001b[0m\n\u001b[0;32m     41\u001b[0m \u001b[1;33m\u001b[0m\u001b[0m\n",
      "\u001b[1;31mIndexError\u001b[0m: index 11 is out of bounds for axis 0 with size 11"
     ]
    }
   ],
   "source": [
    "data = Taixxa()\n",
    "data.loadFile(\"tai12a.dat\")\n",
    "data2 = Taixxa()\n",
    "data2.loadFile(\"tai12a.dat\")\n",
    "print(\"simulated annealing ....\")\n",
    "sol, fit1 = data.simulatedAnnealing(30, 0.9,100,11)\n",
    "print(\"tabu search ....\")\n",
    "sol, fit2 = data2.tabuSearch(1000, 22)\n",
    "fit1 = np.array(fit1)\n",
    "fit2 = np.array(fit2)\n",
    "\n",
    "lists = list([fit1,fit2])\n",
    "df = pd.concat([pd.Series(x) for x in lists], axis=1)\n",
    "comp = FitnessComparator(df)\n",
    "comp.plot()"
   ]
  },
  {
   "cell_type": "code",
   "execution_count": 29,
   "metadata": {
    "scrolled": true
   },
   "outputs": [
    {
     "name": "stdout",
     "output_type": "stream",
     "text": [
      "224416\n",
      "271440\n",
      "246614\n"
     ]
    }
   ],
   "source": [
    "solPerfect = [8,1,6,2,11,10,3,5,9,7,12,4]\n",
    "solPerfect = list(map(lambda x: x-1, solPerfect))\n",
    "mincost = data.computeCost(solPerfect)\n",
    "mincostfound = data.computeCost()\n",
    "mincostfound2 = data2.computeCost()\n",
    "print(mincost)\n",
    "print(mincostfound)\n",
    "print(mincostfound2)"
   ]
  }
 ],
 "metadata": {
  "kernelspec": {
   "display_name": "Python 3",
   "language": "python",
   "name": "python3"
  },
  "language_info": {
   "codemirror_mode": {
    "name": "ipython",
    "version": 3
   },
   "file_extension": ".py",
   "mimetype": "text/x-python",
   "name": "python",
   "nbconvert_exporter": "python",
   "pygments_lexer": "ipython3",
   "version": "3.6.6"
  },
  "pycharm": {
   "stem_cell": {
    "cell_type": "raw",
    "metadata": {
     "collapsed": false
    },
    "source": []
   }
  }
 },
 "nbformat": 4,
 "nbformat_minor": 2
}
