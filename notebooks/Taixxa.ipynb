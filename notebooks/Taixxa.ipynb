{
 "cells": [
  {
   "cell_type": "code",
   "execution_count": 1,
   "metadata": {},
   "outputs": [
    {
     "data": {
      "text/plain": [
       "<Figure size 640x480 with 1 Axes>"
      ]
     },
     "metadata": {},
     "output_type": "display_data"
    },
    {
     "data": {
      "text/plain": [
       "<Figure size 640x480 with 0 Axes>"
      ]
     },
     "metadata": {},
     "output_type": "display_data"
    },
    {
     "data": {
      "text/plain": [
       "<Figure size 640x480 with 1 Axes>"
      ]
     },
     "metadata": {},
     "output_type": "display_data"
    }
   ],
   "source": [
    "import numpy as np\n",
    "import random as rd\n",
    "import pandas as pd\n",
    "import sys\n",
    "sys.path.insert(0, '../src/model/')\n",
    "sys.path.insert(1, '../src/view/')\n",
    "from Taixxa import Taixxa\n",
    "from FitnessViewer import FitnessViewer\n",
    "from FitnessComparator import FitnessComparator"
   ]
  },
  {
   "cell_type": "code",
   "execution_count": null,
   "metadata": {},
   "outputs": [
    {
     "name": "stdout",
     "output_type": "stream",
     "text": [
      "[0, 1, 2, 3, 4, 5, 6, 7, 8, 9, 10, 11, 12, 13, 14, 15, 16, 17, 18, 19, 20, 21, 22, 23, 24, 25, 26, 27, 28, 29, 30, 31, 32, 33, 34, 35, 36, 37, 38, 39, 40, 41, 42, 43, 44, 45, 46, 47, 48, 49, 50, 51, 52, 53, 54, 55, 56, 57, 58, 59]\n",
      "[0, 1, 2, 3, 4, 5, 6, 7, 8, 9, 10, 11, 12, 13, 14, 15, 16, 17, 18, 19, 20, 21, 22, 23, 24, 25, 26, 27, 28, 29, 30, 31, 32, 33, 34, 35, 36, 37, 38, 39, 40, 41, 42, 43, 44, 45, 46, 47, 48, 49, 50, 51, 52, 53, 54, 55, 56, 57, 58, 59]\n",
      "[0, 1, 2, 3, 4, 5, 6, 7, 8, 9, 10, 11]\n",
      "[0, 1, 2, 3, 4, 5, 6, 7, 8, 9, 10, 11]\n"
     ]
    }
   ],
   "source": [
    "data = Taixxa()\n",
    "data.loadFile(\"tai60a.dat\")\n",
    "data2 = Taixxa()\n",
    "data2.loadFile(\"tai60a.dat\")\n",
    "data3 = Taixxa()\n",
    "data3.loadFile(\"tai12a.dat\")\n",
    "data4 = Taixxa()\n",
    "data4.loadFile(\"tai12a.dat\")\n",
    "sol, fit1 = data.simulatedAnnealing(30, 0.9,100,11)\n",
    "sol, fit2 = data2.tabuSearch(1000, 22)\n",
    "fit1 = np.array(fit1)\n",
    "fit2 = np.array(fit2)\n",
    "\n",
    "lists = list([fit1,fit2])\n",
    "df = pd.concat([pd.Series(x) for x in lists], axis=1)\n",
    "comp = FitnessComparator(df)\n",
    "comp.plot()"
   ]
  },
  {
   "cell_type": "code",
   "execution_count": 29,
   "metadata": {
    "scrolled": true
   },
   "outputs": [
    {
     "name": "stdout",
     "output_type": "stream",
     "text": [
      "224416\n",
      "271440\n",
      "246614\n"
     ]
    }
   ],
   "source": [
    "solPerfect = [8,1,6,2,11,10,3,5,9,7,12,4]\n",
    "solPerfect = list(map(lambda x: x-1, solPerfect))\n",
    "mincost = data.computeCost(solPerfect)\n",
    "mincostfound = data.computeCost()\n",
    "mincostfound2 = data2.computeCost()\n",
    "print(mincost)\n",
    "print(mincostfound)\n",
    "print(mincostfound2)"
   ]
  },
  {
   "cell_type": "code",
   "execution_count": 3,
   "metadata": {
    "scrolled": false
   },
   "outputs": [
    {
     "name": "stdout",
     "output_type": "stream",
     "text": [
      "[[79  0 98 ... 69 81 99]\n",
      " [71 98  0 ... 17 24 27]\n",
      " [ 7 76 83 ...  3 71 61]\n",
      " ...\n",
      " [64 69 17 ...  0 73 78]\n",
      " [87 81 24 ... 73  0  3]\n",
      " [53 99 27 ... 78  3  0]]\n"
     ]
    }
   ],
   "source": [
    "print(data.weights)"
   ]
  }
 ],
 "metadata": {
  "kernelspec": {
   "display_name": "Python 3",
   "language": "python",
   "name": "python3"
  },
  "language_info": {
   "codemirror_mode": {
    "name": "ipython",
    "version": 3
   },
   "file_extension": ".py",
   "mimetype": "text/x-python",
   "name": "python",
   "nbconvert_exporter": "python",
   "pygments_lexer": "ipython3",
   "version": "3.6.6"
  },
  "pycharm": {
   "stem_cell": {
    "cell_type": "raw",
    "metadata": {
     "collapsed": false
    },
    "source": []
   }
  }
 },
 "nbformat": 4,
 "nbformat_minor": 2
}
