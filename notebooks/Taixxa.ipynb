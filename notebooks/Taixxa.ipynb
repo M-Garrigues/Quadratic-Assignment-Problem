{
 "cells": [
  {
   "cell_type": "code",
   "execution_count": 1,
   "metadata": {},
   "outputs": [
    {
     "data": {
      "text/plain": [
       "<Figure size 640x480 with 1 Axes>"
      ]
     },
     "metadata": {},
     "output_type": "display_data"
    },
    {
     "data": {
      "text/plain": [
       "<Figure size 640x480 with 0 Axes>"
      ]
     },
     "metadata": {},
     "output_type": "display_data"
    },
    {
     "data": {
      "text/plain": [
       "<Figure size 640x480 with 1 Axes>"
      ]
     },
     "metadata": {},
     "output_type": "display_data"
    }
   ],
   "source": [
    "import numpy as np\n",
    "import random as rd\n",
    "import pandas as pd\n",
    "import sys\n",
    "sys.path.insert(0, '../src/model/')\n",
    "sys.path.insert(1, '../src/view/')\n",
    "from Taixxa import Taixxa\n",
    "from FitnessViewer import FitnessViewer\n",
    "from FitnessComparator import FitnessComparator"
   ]
  },
  {
   "cell_type": "code",
   "execution_count": 19,
   "metadata": {},
   "outputs": [
    {
     "name": "stdout",
     "output_type": "stream",
     "text": [
      "[0, 1, 2, 3, 4, 5, 6, 7, 8, 9, 10, 11]\n",
      "[0, 1, 2, 3, 4, 5, 6, 7, 8, 9, 10, 11]\n",
      "[0, 1, 2, 3, 4, 5, 6, 7, 8, 9, 10, 11]\n",
      "[0, 1, 2, 3, 4, 5, 6, 7, 8, 9, 10, 11]\n"
     ]
    },
    {
     "data": {
      "text/plain": [
       "<Figure size 432x288 with 0 Axes>"
      ]
     },
     "metadata": {},
     "output_type": "display_data"
    },
    {
     "data": {
      "image/png": "[encoded data removed]",
      "text/plain": [
       "<Figure size 432x288 with 1 Axes>"
      ]
     },
     "metadata": {},
     "output_type": "display_data"
    }
   ],
   "source": [
    "data = Taixxa()\n",
    "data.loadFile(\"tai12a.dat\")\n",
    "data2 = Taixxa()\n",
    "data2.loadFile(\"tai12a.dat\")\n",
    "data3 = Taixxa()\n",
    "data3.loadFile(\"tai12a.dat\")\n",
    "data4 = Taixxa()\n",
    "data4.loadFile(\"tai12a.dat\")\n",
    "sol, fit1 = data.simulatedAnnealing(30, 0.9,100,11)\n",
    "sol, fit2 = data2.simulatedAnnealing(30, 0.9,100,11)\n",
    "sol, fit3 = data3.simulatedAnnealing(30, 0.9,100,11)\n",
    "sol, fit4 = data4.simulatedAnnealing(30, 0.9,100,11)\n",
    "fit1 = np.array(fit1)\n",
    "fit2 = np.array(fit2)\n",
    "fit3 = np.array(fit3)\n",
    "fit4 = np.array(fit4)\n",
    "lists = list([fit1,fit2,fit3,fit4])\n",
    "df = pd.concat([pd.Series(x) for x in lists], axis=1)\n",
    "comp = FitnessComparator(df)\n",
    "comp.plot()"
   ]
  },
  {
   "cell_type": "code",
   "execution_count": 16,
   "metadata": {
    "scrolled": true
   },
   "outputs": [
    {
     "name": "stdout",
     "output_type": "stream",
     "text": [
      "224416\n",
      "245200\n"
     ]
    }
   ],
   "source": [
    "solPerfect = [8,1,6,2,11,10,3,5,9,7,12,4]\n",
    "solPerfect = list(map(lambda x: x-1, solPerfect))\n",
    "mincost = data.computeCost(solPerfect)\n",
    "mincostfound = data.computeCost()\n",
    "print(mincost)\n",
    "print(mincostfound)"
   ]
  }
 ],
 "metadata": {
  "kernelspec": {
   "display_name": "Python 2",
   "language": "python",
   "name": "python2"
  },
  "language_info": {
   "codemirror_mode": {
    "name": "ipython",
    "version": 2
   },
   "file_extension": ".py",
   "mimetype": "text/x-python",
   "name": "python",
   "nbconvert_exporter": "python",
   "pygments_lexer": "ipython2",
   "version": "2.7.15"
  },
  "pycharm": {
   "stem_cell": {
    "cell_type": "raw",
    "metadata": {
     "collapsed": false
    },
    "source": []
   }
  }
 },
 "nbformat": 4,
 "nbformat_minor": 2
}
