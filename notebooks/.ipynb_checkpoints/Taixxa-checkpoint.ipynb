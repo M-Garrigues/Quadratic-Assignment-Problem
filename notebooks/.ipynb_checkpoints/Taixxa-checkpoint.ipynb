{
 "cells": [
  {
   "cell_type": "code",
   "execution_count": 1,
   "metadata": {},
   "outputs": [
    {
     "data": {
      "text/plain": [
       "<Figure size 640x480 with 1 Axes>"
      ]
     },
     "metadata": {},
     "output_type": "display_data"
    }
   ],
   "source": [
    "import numpy as np\n",
    "import random as rd\n",
    "import sys\n",
    "sys.path.insert(0, '../src/model/')\n",
    "sys.path.insert(1, '../src/view/')\n",
    "from Taixxa import Taixxa\n",
    "from FitnessViewer import FitnessViewer"
   ]
  },
  {
   "cell_type": "code",
   "execution_count": 19,
   "metadata": {},
   "outputs": [
    {
     "name": "stdout",
     "output_type": "stream",
     "text": [
      "[0, 1, 2, 3, 4, 5, 6, 7, 8, 9, 10, 11]\n"
     ]
    },
    {
     "data": {
      "image/png": "[encoded data removed]",
      "text/plain": [
       "<Figure size 432x288 with 1 Axes>"
      ]
     },
     "metadata": {
      "needs_background": "light"
     },
     "output_type": "display_data"
    }
   ],
   "source": [
    "data = Taixxa()\n",
    "data.loadFile(\"tai12a.dat\")\n",
    "sol, fit = data.simulatedAnnealing(50, 0.9,1000,10)\n",
    "viewer = FitnessViewer(np.array(fit))\n",
    "viewer.plot()"
   ]
  },
  {
   "cell_type": "code",
   "execution_count": 20,
   "metadata": {
    "scrolled": true
   },
   "outputs": [
    {
     "name": "stdout",
     "output_type": "stream",
     "text": [
      "224416\n",
      "242020\n"
     ]
    }
   ],
   "source": [
    "sol\n",
    "solPerfect = [8,1,6,2,11,10,3,5,9,7,12,4]\n",
    "solPerfect = list(map(lambda x: x-1, solPerfect))\n",
    "mincost = data.computeCost(solPerfect)\n",
    "mincostfound = data.computeCost()\n",
    "print(mincost)\n",
    "print(mincostfound)"
   ]
  }
 ],
 "metadata": {
  "kernelspec": {
   "display_name": "Python 3",
   "language": "python",
   "name": "python3"
  },
  "language_info": {
   "codemirror_mode": {
    "name": "ipython",
    "version": 3
   },
   "file_extension": ".py",
   "mimetype": "text/x-python",
   "name": "python",
   "nbconvert_exporter": "python",
   "pygments_lexer": "ipython3",
   "version": "3.6.6"
  },
  "pycharm": {
   "stem_cell": {
    "cell_type": "raw",
    "metadata": {
     "collapsed": false
    },
    "source": []
   }
  }
 },
 "nbformat": 4,
 "nbformat_minor": 2
}
